{
 "cells": [
  {
   "cell_type": "code",
   "execution_count": 2,
   "id": "f9816cec",
   "metadata": {},
   "outputs": [],
   "source": [
    "import pandas as p\n",
    "from sklearn.tree import DecisionTreeClassifier\n",
    "import joblib"
   ]
  },
  {
   "cell_type": "code",
   "execution_count": 3,
   "id": "00bab4df",
   "metadata": {},
   "outputs": [],
   "source": [
    "game_data = p.read_csv(\"./juegos-ml.csv\")\n",
    "X = game_data.drop(columns=[\"juegos\"])\n",
    "y = game_data[\"juegos\"]"
   ]
  },
  {
   "cell_type": "code",
   "execution_count": 4,
   "id": "a2c1e40e",
   "metadata": {},
   "outputs": [
    {
     "data": {
      "text/plain": [
       "['games.joblib']"
      ]
     },
     "execution_count": 4,
     "metadata": {},
     "output_type": "execute_result"
    }
   ],
   "source": [
    "model = DecisionTreeClassifier()\n",
    "model.fit(X.values, y)\n",
    "joblib.dump(model, 'games.joblib')"
   ]
  },
  {
   "cell_type": "code",
   "execution_count": null,
   "id": "20a4dd25",
   "metadata": {},
   "outputs": [],
   "source": []
  }
 ],
 "metadata": {
  "kernelspec": {
   "display_name": "Python 3 (ipykernel)",
   "language": "python",
   "name": "python3"
  },
  "language_info": {
   "codemirror_mode": {
    "name": "ipython",
    "version": 3
   },
   "file_extension": ".py",
   "mimetype": "text/x-python",
   "name": "python",
   "nbconvert_exporter": "python",
   "pygments_lexer": "ipython3",
   "version": "3.11.5"
  }
 },
 "nbformat": 4,
 "nbformat_minor": 5
}
